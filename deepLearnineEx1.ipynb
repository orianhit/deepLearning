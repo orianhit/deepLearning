{
  "nbformat": 4,
  "nbformat_minor": 0,
  "metadata": {
    "colab": {
      "provenance": [],
      "authorship_tag": "ABX9TyMbecM5CCbY9EOA+92kAV+G",
      "include_colab_link": true
    },
    "kernelspec": {
      "name": "python3",
      "display_name": "Python 3"
    },
    "language_info": {
      "name": "python"
    }
  },
  "cells": [
    {
      "cell_type": "markdown",
      "metadata": {
        "id": "view-in-github",
        "colab_type": "text"
      },
      "source": [
        "<a href=\"https://colab.research.google.com/github/orianhit/deepLearning/blob/main/deepLearnineEx1.ipynb\" target=\"_parent\"><img src=\"https://colab.research.google.com/assets/colab-badge.svg\" alt=\"Open In Colab\"/></a>"
      ]
    },
    {
      "cell_type": "code",
      "source": [
        "import tensorflow as tf\n",
        "import tensorflow_datasets as tfds"
      ],
      "metadata": {
        "id": "Ne6Nep2XQUGf"
      },
      "execution_count": null,
      "outputs": []
    },
    {
      "cell_type": "code",
      "execution_count": null,
      "metadata": {
        "id": "mnEpYE7XPdRj"
      },
      "outputs": [],
      "source": [
        "(ds_train, ds_test), ds_info = tfds.load(\n",
        "    'mnist_corrupted',\n",
        "    split=['train', 'test'],\n",
        "    shuffle_files=True,\n",
        "    as_supervised=True,\n",
        "    with_info=True,\n",
        ")"
      ]
    },
    {
      "cell_type": "code",
      "source": [
        "def normalize_img(image, label):\n",
        "  \"\"\"Normalizes images: `uint8` -> `float32`.\"\"\"\n",
        "  return tf.cast(image, tf.float32) / 255., label\n",
        "\n",
        "ds_train = ds_train.map(\n",
        "    normalize_img, num_parallel_calls=tf.data.AUTOTUNE)\n",
        "ds_train = ds_train.cache()\n",
        "ds_train = ds_train.shuffle(ds_info.splits['train'].num_examples)\n",
        "ds_train = ds_train.batch(32)\n",
        "ds_train = ds_train.prefetch(tf.data.AUTOTUNE)\n",
        "\n",
        "ds_test = ds_test.map(\n",
        "    normalize_img, num_parallel_calls=tf.data.AUTOTUNE)\n",
        "ds_test = ds_test.batch(32)\n",
        "ds_test = ds_test.cache()\n",
        "ds_test = ds_test.prefetch(tf.data.AUTOTUNE)"
      ],
      "metadata": {
        "id": "43IO8Pr8QCOD"
      },
      "execution_count": null,
      "outputs": []
    },
    {
      "cell_type": "code",
      "source": [
        "model = tf.keras.models.Sequential([\n",
        "  tf.keras.layers.Flatten(input_shape=(28, 28)),\n",
        "  tf.keras.layers.Dense(512),\n",
        "  tf.keras.layers.BatchNormalization(epsilon=1e-06, momentum=0.8, weights=None),\n",
        "  tf.keras.layers.ELU(),\n",
        "  tf.keras.layers.Dropout(0.3),\n",
        "  tf.keras.layers.Dense(256),\n",
        "  tf.keras.layers.BatchNormalization(epsilon=1e-06, momentum=0.8, weights=None),\n",
        "  tf.keras.layers.ELU(),\n",
        "  tf.keras.layers.Dropout(0.3),\n",
        "  tf.keras.layers.Dense(256),\n",
        "  tf.keras.layers.BatchNormalization(epsilon=1e-06, momentum=0.8, weights=None),\n",
        "  tf.keras.layers.ELU(),\n",
        "  tf.keras.layers.Dropout(0.3),\n",
        "  tf.keras.layers.Dense(256),\n",
        "  tf.keras.layers.BatchNormalization(epsilon=1e-06, momentum=0.8, weights=None),\n",
        "  tf.keras.layers.ELU(),\n",
        "  tf.keras.layers.Dropout(0.5),\n",
        "  tf.keras.layers.Dense(10)\n",
        "])\n",
        "model.compile(\n",
        "    optimizer=tf.keras.optimizers.Adam(0.001),\n",
        "    loss=tf.keras.losses.SparseCategoricalCrossentropy(from_logits=True),\n",
        "    metrics=[tf.keras.metrics.SparseCategoricalAccuracy()],\n",
        ")\n",
        "\n",
        "model.fit(\n",
        "    ds_train,\n",
        "    epochs=8,\n",
        "    validation_data=ds_test,\n",
        ")"
      ],
      "metadata": {
        "colab": {
          "base_uri": "https://localhost:8080/"
        },
        "id": "FAy5X8ErQb97",
        "outputId": "b78ee689-b80c-4813-86db-73276310fe2c"
      },
      "execution_count": null,
      "outputs": [
        {
          "output_type": "stream",
          "name": "stdout",
          "text": [
            "Epoch 1/8\n",
            "1875/1875 [==============================] - 28s 13ms/step - loss: 0.4142 - sparse_categorical_accuracy: 0.8742 - val_loss: 0.1159 - val_sparse_categorical_accuracy: 0.9645\n",
            "Epoch 2/8\n",
            "1875/1875 [==============================] - 25s 13ms/step - loss: 0.2273 - sparse_categorical_accuracy: 0.9338 - val_loss: 0.0972 - val_sparse_categorical_accuracy: 0.9698\n",
            "Epoch 3/8\n",
            "1875/1875 [==============================] - 33s 18ms/step - loss: 0.1793 - sparse_categorical_accuracy: 0.9479 - val_loss: 0.0818 - val_sparse_categorical_accuracy: 0.9747\n",
            "Epoch 4/8\n",
            "1875/1875 [==============================] - 27s 14ms/step - loss: 0.1545 - sparse_categorical_accuracy: 0.9540 - val_loss: 0.0713 - val_sparse_categorical_accuracy: 0.9780\n",
            "Epoch 5/8\n",
            "1875/1875 [==============================] - 26s 14ms/step - loss: 0.1371 - sparse_categorical_accuracy: 0.9587 - val_loss: 0.0710 - val_sparse_categorical_accuracy: 0.9783\n",
            "Epoch 6/8\n",
            "1875/1875 [==============================] - 27s 14ms/step - loss: 0.1210 - sparse_categorical_accuracy: 0.9641 - val_loss: 0.0607 - val_sparse_categorical_accuracy: 0.9811\n",
            "Epoch 7/8\n",
            "1875/1875 [==============================] - 26s 14ms/step - loss: 0.1154 - sparse_categorical_accuracy: 0.9661 - val_loss: 0.0610 - val_sparse_categorical_accuracy: 0.9815\n",
            "Epoch 8/8\n",
            "1875/1875 [==============================] - 25s 13ms/step - loss: 0.1054 - sparse_categorical_accuracy: 0.9686 - val_loss: 0.0570 - val_sparse_categorical_accuracy: 0.9821\n"
          ]
        },
        {
          "output_type": "execute_result",
          "data": {
            "text/plain": [
              "<keras.callbacks.History at 0x7f5c80c611d0>"
            ]
          },
          "metadata": {},
          "execution_count": 21
        }
      ]
    },
    {
      "cell_type": "code",
      "source": [
        "model.summary()"
      ],
      "metadata": {
        "colab": {
          "base_uri": "https://localhost:8080/"
        },
        "id": "K3IhIzIWrSZC",
        "outputId": "734412bc-061e-4e9b-e60c-2e03354bcc72"
      },
      "execution_count": null,
      "outputs": [
        {
          "output_type": "stream",
          "name": "stdout",
          "text": [
            "Model: \"sequential_6\"\n",
            "_________________________________________________________________\n",
            " Layer (type)                Output Shape              Param #   \n",
            "=================================================================\n",
            " flatten_6 (Flatten)         (None, 784)               0         \n",
            "                                                                 \n",
            " dense_27 (Dense)            (None, 512)               401920    \n",
            "                                                                 \n",
            " batch_normalization_21 (Bat  (None, 512)              2048      \n",
            " chNormalization)                                                \n",
            "                                                                 \n",
            " re_lu_21 (ReLU)             (None, 512)               0         \n",
            "                                                                 \n",
            " dropout_21 (Dropout)        (None, 512)               0         \n",
            "                                                                 \n",
            " dense_28 (Dense)            (None, 256)               131328    \n",
            "                                                                 \n",
            " batch_normalization_22 (Bat  (None, 256)              1024      \n",
            " chNormalization)                                                \n",
            "                                                                 \n",
            " re_lu_22 (ReLU)             (None, 256)               0         \n",
            "                                                                 \n",
            " dropout_22 (Dropout)        (None, 256)               0         \n",
            "                                                                 \n",
            " dense_29 (Dense)            (None, 256)               65792     \n",
            "                                                                 \n",
            " batch_normalization_23 (Bat  (None, 256)              1024      \n",
            " chNormalization)                                                \n",
            "                                                                 \n",
            " re_lu_23 (ReLU)             (None, 256)               0         \n",
            "                                                                 \n",
            " dropout_23 (Dropout)        (None, 256)               0         \n",
            "                                                                 \n",
            " dense_30 (Dense)            (None, 256)               65792     \n",
            "                                                                 \n",
            " batch_normalization_24 (Bat  (None, 256)              1024      \n",
            " chNormalization)                                                \n",
            "                                                                 \n",
            " re_lu_24 (ReLU)             (None, 256)               0         \n",
            "                                                                 \n",
            " dropout_24 (Dropout)        (None, 256)               0         \n",
            "                                                                 \n",
            " dense_31 (Dense)            (None, 10)                2570      \n",
            "                                                                 \n",
            "=================================================================\n",
            "Total params: 672,522\n",
            "Trainable params: 669,962\n",
            "Non-trainable params: 2,560\n",
            "_________________________________________________________________\n"
          ]
        }
      ]
    },
    {
      "cell_type": "code",
      "source": [],
      "metadata": {
        "id": "TAAk3o138gDR"
      },
      "execution_count": null,
      "outputs": []
    }
  ]
}