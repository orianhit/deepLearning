{
  "nbformat": 4,
  "nbformat_minor": 0,
  "metadata": {
    "colab": {
      "provenance": []
    },
    "kernelspec": {
      "name": "python3",
      "display_name": "Python 3"
    },
    "language_info": {
      "name": "python"
    },
    "widgets": {
      "application/vnd.jupyter.widget-state+json": {
        "a7f33dca49f342d8951df6a8b2488914": {
          "model_module": "@jupyter-widgets/controls",
          "model_name": "HBoxModel",
          "model_module_version": "1.5.0",
          "state": {
            "_dom_classes": [],
            "_model_module": "@jupyter-widgets/controls",
            "_model_module_version": "1.5.0",
            "_model_name": "HBoxModel",
            "_view_count": null,
            "_view_module": "@jupyter-widgets/controls",
            "_view_module_version": "1.5.0",
            "_view_name": "HBoxView",
            "box_style": "",
            "children": [
              "IPY_MODEL_0826a1ed097547e78ea94e8125191e0e",
              "IPY_MODEL_74bb9316cb1f4d48baf855bac4409242",
              "IPY_MODEL_06e6900470734dc4898f63c45b56c9ce"
            ],
            "layout": "IPY_MODEL_2d2c898373bd406bbdad4c466ea0f22f"
          }
        },
        "0826a1ed097547e78ea94e8125191e0e": {
          "model_module": "@jupyter-widgets/controls",
          "model_name": "HTMLModel",
          "model_module_version": "1.5.0",
          "state": {
            "_dom_classes": [],
            "_model_module": "@jupyter-widgets/controls",
            "_model_module_version": "1.5.0",
            "_model_name": "HTMLModel",
            "_view_count": null,
            "_view_module": "@jupyter-widgets/controls",
            "_view_module_version": "1.5.0",
            "_view_name": "HTMLView",
            "description": "",
            "description_tooltip": null,
            "layout": "IPY_MODEL_f32bae632b6d46caad1f28c19b1b9ee2",
            "placeholder": "​",
            "style": "IPY_MODEL_dcbf3b64465d4f40bbdd89cf3270b93e",
            "value": "Dl Completed...: 100%"
          }
        },
        "74bb9316cb1f4d48baf855bac4409242": {
          "model_module": "@jupyter-widgets/controls",
          "model_name": "FloatProgressModel",
          "model_module_version": "1.5.0",
          "state": {
            "_dom_classes": [],
            "_model_module": "@jupyter-widgets/controls",
            "_model_module_version": "1.5.0",
            "_model_name": "FloatProgressModel",
            "_view_count": null,
            "_view_module": "@jupyter-widgets/controls",
            "_view_module_version": "1.5.0",
            "_view_name": "ProgressView",
            "bar_style": "success",
            "description": "",
            "description_tooltip": null,
            "layout": "IPY_MODEL_023fa44ce4684c83a757bc5aa8635165",
            "max": 5,
            "min": 0,
            "orientation": "horizontal",
            "style": "IPY_MODEL_d01eaa0144434539a6d6a4cb0ae1125a",
            "value": 5
          }
        },
        "06e6900470734dc4898f63c45b56c9ce": {
          "model_module": "@jupyter-widgets/controls",
          "model_name": "HTMLModel",
          "model_module_version": "1.5.0",
          "state": {
            "_dom_classes": [],
            "_model_module": "@jupyter-widgets/controls",
            "_model_module_version": "1.5.0",
            "_model_name": "HTMLModel",
            "_view_count": null,
            "_view_module": "@jupyter-widgets/controls",
            "_view_module_version": "1.5.0",
            "_view_name": "HTMLView",
            "description": "",
            "description_tooltip": null,
            "layout": "IPY_MODEL_1498f46dec384063a4c8aa7e7ce3f5c2",
            "placeholder": "​",
            "style": "IPY_MODEL_a5a3ae4bb3c24964a9e993ab7e292f9b",
            "value": " 5/5 [00:02&lt;00:00,  1.66 file/s]"
          }
        },
        "2d2c898373bd406bbdad4c466ea0f22f": {
          "model_module": "@jupyter-widgets/base",
          "model_name": "LayoutModel",
          "model_module_version": "1.2.0",
          "state": {
            "_model_module": "@jupyter-widgets/base",
            "_model_module_version": "1.2.0",
            "_model_name": "LayoutModel",
            "_view_count": null,
            "_view_module": "@jupyter-widgets/base",
            "_view_module_version": "1.2.0",
            "_view_name": "LayoutView",
            "align_content": null,
            "align_items": null,
            "align_self": null,
            "border": null,
            "bottom": null,
            "display": null,
            "flex": null,
            "flex_flow": null,
            "grid_area": null,
            "grid_auto_columns": null,
            "grid_auto_flow": null,
            "grid_auto_rows": null,
            "grid_column": null,
            "grid_gap": null,
            "grid_row": null,
            "grid_template_areas": null,
            "grid_template_columns": null,
            "grid_template_rows": null,
            "height": null,
            "justify_content": null,
            "justify_items": null,
            "left": null,
            "margin": null,
            "max_height": null,
            "max_width": null,
            "min_height": null,
            "min_width": null,
            "object_fit": null,
            "object_position": null,
            "order": null,
            "overflow": null,
            "overflow_x": null,
            "overflow_y": null,
            "padding": null,
            "right": null,
            "top": null,
            "visibility": null,
            "width": null
          }
        },
        "f32bae632b6d46caad1f28c19b1b9ee2": {
          "model_module": "@jupyter-widgets/base",
          "model_name": "LayoutModel",
          "model_module_version": "1.2.0",
          "state": {
            "_model_module": "@jupyter-widgets/base",
            "_model_module_version": "1.2.0",
            "_model_name": "LayoutModel",
            "_view_count": null,
            "_view_module": "@jupyter-widgets/base",
            "_view_module_version": "1.2.0",
            "_view_name": "LayoutView",
            "align_content": null,
            "align_items": null,
            "align_self": null,
            "border": null,
            "bottom": null,
            "display": null,
            "flex": null,
            "flex_flow": null,
            "grid_area": null,
            "grid_auto_columns": null,
            "grid_auto_flow": null,
            "grid_auto_rows": null,
            "grid_column": null,
            "grid_gap": null,
            "grid_row": null,
            "grid_template_areas": null,
            "grid_template_columns": null,
            "grid_template_rows": null,
            "height": null,
            "justify_content": null,
            "justify_items": null,
            "left": null,
            "margin": null,
            "max_height": null,
            "max_width": null,
            "min_height": null,
            "min_width": null,
            "object_fit": null,
            "object_position": null,
            "order": null,
            "overflow": null,
            "overflow_x": null,
            "overflow_y": null,
            "padding": null,
            "right": null,
            "top": null,
            "visibility": null,
            "width": null
          }
        },
        "dcbf3b64465d4f40bbdd89cf3270b93e": {
          "model_module": "@jupyter-widgets/controls",
          "model_name": "DescriptionStyleModel",
          "model_module_version": "1.5.0",
          "state": {
            "_model_module": "@jupyter-widgets/controls",
            "_model_module_version": "1.5.0",
            "_model_name": "DescriptionStyleModel",
            "_view_count": null,
            "_view_module": "@jupyter-widgets/base",
            "_view_module_version": "1.2.0",
            "_view_name": "StyleView",
            "description_width": ""
          }
        },
        "023fa44ce4684c83a757bc5aa8635165": {
          "model_module": "@jupyter-widgets/base",
          "model_name": "LayoutModel",
          "model_module_version": "1.2.0",
          "state": {
            "_model_module": "@jupyter-widgets/base",
            "_model_module_version": "1.2.0",
            "_model_name": "LayoutModel",
            "_view_count": null,
            "_view_module": "@jupyter-widgets/base",
            "_view_module_version": "1.2.0",
            "_view_name": "LayoutView",
            "align_content": null,
            "align_items": null,
            "align_self": null,
            "border": null,
            "bottom": null,
            "display": null,
            "flex": null,
            "flex_flow": null,
            "grid_area": null,
            "grid_auto_columns": null,
            "grid_auto_flow": null,
            "grid_auto_rows": null,
            "grid_column": null,
            "grid_gap": null,
            "grid_row": null,
            "grid_template_areas": null,
            "grid_template_columns": null,
            "grid_template_rows": null,
            "height": null,
            "justify_content": null,
            "justify_items": null,
            "left": null,
            "margin": null,
            "max_height": null,
            "max_width": null,
            "min_height": null,
            "min_width": null,
            "object_fit": null,
            "object_position": null,
            "order": null,
            "overflow": null,
            "overflow_x": null,
            "overflow_y": null,
            "padding": null,
            "right": null,
            "top": null,
            "visibility": null,
            "width": null
          }
        },
        "d01eaa0144434539a6d6a4cb0ae1125a": {
          "model_module": "@jupyter-widgets/controls",
          "model_name": "ProgressStyleModel",
          "model_module_version": "1.5.0",
          "state": {
            "_model_module": "@jupyter-widgets/controls",
            "_model_module_version": "1.5.0",
            "_model_name": "ProgressStyleModel",
            "_view_count": null,
            "_view_module": "@jupyter-widgets/base",
            "_view_module_version": "1.2.0",
            "_view_name": "StyleView",
            "bar_color": null,
            "description_width": ""
          }
        },
        "1498f46dec384063a4c8aa7e7ce3f5c2": {
          "model_module": "@jupyter-widgets/base",
          "model_name": "LayoutModel",
          "model_module_version": "1.2.0",
          "state": {
            "_model_module": "@jupyter-widgets/base",
            "_model_module_version": "1.2.0",
            "_model_name": "LayoutModel",
            "_view_count": null,
            "_view_module": "@jupyter-widgets/base",
            "_view_module_version": "1.2.0",
            "_view_name": "LayoutView",
            "align_content": null,
            "align_items": null,
            "align_self": null,
            "border": null,
            "bottom": null,
            "display": null,
            "flex": null,
            "flex_flow": null,
            "grid_area": null,
            "grid_auto_columns": null,
            "grid_auto_flow": null,
            "grid_auto_rows": null,
            "grid_column": null,
            "grid_gap": null,
            "grid_row": null,
            "grid_template_areas": null,
            "grid_template_columns": null,
            "grid_template_rows": null,
            "height": null,
            "justify_content": null,
            "justify_items": null,
            "left": null,
            "margin": null,
            "max_height": null,
            "max_width": null,
            "min_height": null,
            "min_width": null,
            "object_fit": null,
            "object_position": null,
            "order": null,
            "overflow": null,
            "overflow_x": null,
            "overflow_y": null,
            "padding": null,
            "right": null,
            "top": null,
            "visibility": null,
            "width": null
          }
        },
        "a5a3ae4bb3c24964a9e993ab7e292f9b": {
          "model_module": "@jupyter-widgets/controls",
          "model_name": "DescriptionStyleModel",
          "model_module_version": "1.5.0",
          "state": {
            "_model_module": "@jupyter-widgets/controls",
            "_model_module_version": "1.5.0",
            "_model_name": "DescriptionStyleModel",
            "_view_count": null,
            "_view_module": "@jupyter-widgets/base",
            "_view_module_version": "1.2.0",
            "_view_name": "StyleView",
            "description_width": ""
          }
        }
      }
    }
  },
  "cells": [
    {
      "cell_type": "code",
      "execution_count": 3,
      "metadata": {
        "id": "bNglONjji1UY"
      },
      "outputs": [],
      "source": [
        "import tensorflow as tf\n",
        "import datetime, os\n",
        "import tensorflow_datasets as tfds\n",
        "import numpy as np\n",
        "import matplotlib.pyplot as plt\n",
        "import keras\n",
        "from keras import utils as np_utils\n",
        "from keras.models import Sequential\n",
        "from keras.layers import Dense, Dropout, AvgPool2D, Conv2D, Input\n",
        "\n",
        "%matplotlib inline"
      ]
    },
    {
      "cell_type": "code",
      "source": [
        "(ds_train, ds_test), ds_info = tfds.load(\n",
        "    'mnist',\n",
        "    split=['train', 'test'],\n",
        "    shuffle_files=True,\n",
        "    as_supervised=True,\n",
        "    with_info=True,\n",
        ")\n",
        "\n",
        "the_shape = (28, 28, 1)\n",
        "\n",
        "def normalize_img(image, label):\n",
        "  \"\"\"Normalizes images: `uint8` -> `float32`.\"\"\"\n",
        "  return tf.cast(image, tf.float32) / 255., label\n",
        "\n",
        "ds_train = ds_train.map(normalize_img, num_parallel_calls=tf.data.AUTOTUNE)\n",
        "ds_train = ds_train.cache()\n",
        "ds_train = ds_train.shuffle(ds_info.splits['train'].num_examples)\n",
        "ds_train = ds_train.batch(32)\n",
        "ds_train = ds_train.prefetch(tf.data.AUTOTUNE)\n",
        "\n",
        "ds_test = ds_test.map(normalize_img, num_parallel_calls=tf.data.AUTOTUNE)\n",
        "ds_test = ds_test.batch(32)\n",
        "ds_test = ds_test.cache()\n",
        "ds_test = ds_test.prefetch(tf.data.AUTOTUNE)"
      ],
      "metadata": {
        "id": "is-Eooohi2Jd",
        "colab": {
          "base_uri": "https://localhost:8080/",
          "height": 105,
          "referenced_widgets": [
            "a7f33dca49f342d8951df6a8b2488914",
            "0826a1ed097547e78ea94e8125191e0e",
            "74bb9316cb1f4d48baf855bac4409242",
            "06e6900470734dc4898f63c45b56c9ce",
            "2d2c898373bd406bbdad4c466ea0f22f",
            "f32bae632b6d46caad1f28c19b1b9ee2",
            "dcbf3b64465d4f40bbdd89cf3270b93e",
            "023fa44ce4684c83a757bc5aa8635165",
            "d01eaa0144434539a6d6a4cb0ae1125a",
            "1498f46dec384063a4c8aa7e7ce3f5c2",
            "a5a3ae4bb3c24964a9e993ab7e292f9b"
          ]
        },
        "outputId": "bff85bde-5bc6-450f-dcbf-6172226d3218"
      },
      "execution_count": 4,
      "outputs": [
        {
          "output_type": "stream",
          "name": "stdout",
          "text": [
            "Downloading and preparing dataset 11.06 MiB (download: 11.06 MiB, generated: 21.00 MiB, total: 32.06 MiB) to ~/tensorflow_datasets/mnist/3.0.1...\n"
          ]
        },
        {
          "output_type": "display_data",
          "data": {
            "text/plain": [
              "Dl Completed...:   0%|          | 0/5 [00:00<?, ? file/s]"
            ],
            "application/vnd.jupyter.widget-view+json": {
              "version_major": 2,
              "version_minor": 0,
              "model_id": "a7f33dca49f342d8951df6a8b2488914"
            }
          },
          "metadata": {}
        },
        {
          "output_type": "stream",
          "name": "stdout",
          "text": [
            "Dataset mnist downloaded and prepared to ~/tensorflow_datasets/mnist/3.0.1. Subsequent calls will reuse this data.\n"
          ]
        }
      ]
    },
    {
      "cell_type": "code",
      "source": [
        "# model = tf.keras.applications.VGG16(\n",
        "#     include_top=True,\n",
        "#     weights=\"imagenet\",\n",
        "#     input_tensor=None,\n",
        "#     input_shape=None,\n",
        "#     pooling=None,\n",
        "#     classes=1000,\n",
        "#     classifier_activation=\"softmax\",\n",
        "# )\n",
        "# model.summary()"
      ],
      "metadata": {
        "id": "CYQD_P0IxFcN"
      },
      "execution_count": null,
      "outputs": []
    },
    {
      "cell_type": "markdown",
      "source": [
        "\n",
        "**The receptive field calculate function :**"
      ],
      "metadata": {
        "id": "XfrIIIGtu-Ad"
      }
    },
    {
      "cell_type": "code",
      "source": [
        "from prettytable import PrettyTable\n",
        "\n",
        "INPUT_SHAPE = (28, 28, 1)\n",
        "MAX_RECEPTIVE = 28 * 28 * 1\n",
        "KERNEL_SIZE = (3, 3)\n",
        "\n",
        "POOLING_LAYERS = ['MaxPooling2D', 'AveragePooling2D']\n",
        "CONV_LAYERS = ['Conv2D']\n",
        "GLOBAL_POOLING_LAYERS = ['GlobalAveragePooling2D']\n",
        "\n",
        "def get_receptive_field(model, should_print=False):\n",
        "  receptive_field, jump = 1, 1\n",
        "  t = PrettyTable(['Model Layer Name', 'Class Name', 'Receptive Field', 'Stride', 'Jump', 'Kernel'])\n",
        "  for current_layer in model.layers:\n",
        "    layer_class = current_layer.__class__.__name__\n",
        "    layer_name = current_layer.get_config()['name']\n",
        "    stride = 1\n",
        "    kernel_size = 1\n",
        "    if layer_class in CONV_LAYERS + POOLING_LAYERS:\n",
        "      stride = current_layer.get_config()['strides'][0]\n",
        "      if layer_class in CONV_LAYERS:\n",
        "        kernel_size = current_layer.get_config()['kernel_size'][0]\n",
        "        receptive_field = min(MAX_RECEPTIVE, receptive_field + (kernel_size - 1) * jump)\n",
        "        jump = jump * stride\n",
        "      elif layer_class in POOLING_LAYERS:\n",
        "        kernel_size = current_layer.get_config()['pool_size'][0]\n",
        "        receptive_field = min(MAX_RECEPTIVE, receptive_field + (kernel_size - 1) * jump)\n",
        "        jump = jump * stride\n",
        "      \n",
        "      t.add_row([layer_name, layer_class, receptive_field, stride, jump, kernel_size])\n",
        "    else:\n",
        "      t.add_row([layer_name, layer_class, receptive_field, stride, jump, kernel_size])\n",
        "  if should_print:\n",
        "    print(t)\n",
        "  return receptive_field"
      ],
      "metadata": {
        "id": "-9H9aW_LxmKk"
      },
      "execution_count": 5,
      "outputs": []
    },
    {
      "cell_type": "code",
      "source": [
        "def get_layers_by_conv_count(conv_count: int):\n",
        "  if conv_count == 0:\n",
        "    return [\n",
        "    tf.keras.layers.GlobalAveragePooling2D(input_shape=INPUT_SHAPE),\n",
        "    tf.keras.layers.Dense(units=512, activation='relu'),\n",
        "    tf.keras.layers.BatchNormalization(),\n",
        "    tf.keras.layers.Dropout(0.2),\n",
        "    tf.keras.layers.Dense(units=512, activation='relu'),\n",
        "    tf.keras.layers.Dense(units=512, activation='relu'),\n",
        "    tf.keras.layers.Dense(units=128, activation='relu'),\n",
        "    tf.keras.layers.Dropout(0.2),\n",
        "    tf.keras.layers.Dense(10, activation='softmax')\n",
        "    ]\n",
        "\n",
        "  layers = [\n",
        "  tf.keras.layers.Conv2D(filters=32, kernel_size=KERNEL_SIZE,  activation='relu', input_shape=INPUT_SHAPE)\n",
        "  ]\n",
        "  for i in range(conv_count - 1):\n",
        "    if i % 3 == 1:\n",
        "      new_layers = [\n",
        "        tf.keras.layers.Conv2D(filters=8, strides = (2,2), kernel_size=KERNEL_SIZE, activation='relu', padding='same'),\n",
        "        tf.keras.layers.BatchNormalization(),\n",
        "        tf.keras.layers.Dropout(0.2),\n",
        "      ]\n",
        "\n",
        "    else:\n",
        "      new_layers = [tf.keras.layers.Conv2D(filters=16, kernel_size=KERNEL_SIZE, activation='relu', padding='same')]\n",
        "    layers = layers + new_layers\n",
        "  layers = layers + [\n",
        "    tf.keras.layers.GlobalAveragePooling2D(),\n",
        "    tf.keras.layers.Dense(units=512, activation='relu'),\n",
        "    tf.keras.layers.BatchNormalization(),\n",
        "    tf.keras.layers.Dropout(0.2),\n",
        "    tf.keras.layers.Dense(units=512, activation='relu'),\n",
        "    tf.keras.layers.Dense(units=512, activation='relu'),\n",
        "    tf.keras.layers.Dense(units=128, activation='relu'),\n",
        "    tf.keras.layers.Dropout(0.2),\n",
        "    tf.keras.layers.Dense(10, activation='softmax')\n",
        "  ]\n",
        "  return layers\n",
        "\n",
        "def generate_model_one_step_more_then_k_rf(k: int):\n",
        "  model_rf = -1\n",
        "  conv_count = 0\n",
        "\n",
        "  while model_rf < k:    \n",
        "    model = tf.keras.models.Sequential(get_layers_by_conv_count(conv_count))\n",
        "    model_rf = get_receptive_field(model, should_print=True)\n",
        "    print(f\"model_rf: {model_rf} conv_count: {conv_count}, param count: {model.count_params()}\")\n",
        "    conv_count += 1\n",
        "  return model\n"
      ],
      "metadata": {
        "id": "aaAQ9ulFG4CV"
      },
      "execution_count": 42,
      "outputs": []
    },
    {
      "cell_type": "code",
      "source": [
        "model = generate_model_one_step_more_then_k_rf(10)"
      ],
      "metadata": {
        "colab": {
          "base_uri": "https://localhost:8080/"
        },
        "id": "jc6kMZ3CU4m-",
        "outputId": "36352453-a387-443f-95fe-37d2a464871d"
      },
      "execution_count": 44,
      "outputs": [
        {
          "output_type": "stream",
          "name": "stdout",
          "text": [
            "+-----------------------------+------------------------+-----------------+--------+------+--------+\n",
            "|       Model Layer Name      |       Class Name       | Receptive Field | Stride | Jump | Kernel |\n",
            "+-----------------------------+------------------------+-----------------+--------+------+--------+\n",
            "| global_average_pooling2d_30 | GlobalAveragePooling2D |        1        |   1    |  1   |   1    |\n",
            "|          dense_106          |         Dense          |        1        |   1    |  1   |   1    |\n",
            "|    batch_normalization_23   |   BatchNormalization   |        1        |   1    |  1   |   1    |\n",
            "|          dropout_53         |        Dropout         |        1        |   1    |  1   |   1    |\n",
            "|          dense_107          |         Dense          |        1        |   1    |  1   |   1    |\n",
            "|          dense_108          |         Dense          |        1        |   1    |  1   |   1    |\n",
            "|          dense_109          |         Dense          |        1        |   1    |  1   |   1    |\n",
            "|          dropout_54         |        Dropout         |        1        |   1    |  1   |   1    |\n",
            "|          dense_110          |         Dense          |        1        |   1    |  1   |   1    |\n",
            "+-----------------------------+------------------------+-----------------+--------+------+--------+\n",
            "model_rf: 1 conv_count: 0, param count: 595338\n",
            "+-----------------------------+------------------------+-----------------+--------+------+--------+\n",
            "|       Model Layer Name      |       Class Name       | Receptive Field | Stride | Jump | Kernel |\n",
            "+-----------------------------+------------------------+-----------------+--------+------+--------+\n",
            "|          conv2d_16          |         Conv2D         |        3        |   1    |  1   |   3    |\n",
            "| global_average_pooling2d_31 | GlobalAveragePooling2D |        3        |   1    |  1   |   1    |\n",
            "|          dense_111          |         Dense          |        3        |   1    |  1   |   1    |\n",
            "|    batch_normalization_24   |   BatchNormalization   |        3        |   1    |  1   |   1    |\n",
            "|          dropout_55         |        Dropout         |        3        |   1    |  1   |   1    |\n",
            "|          dense_112          |         Dense          |        3        |   1    |  1   |   1    |\n",
            "|          dense_113          |         Dense          |        3        |   1    |  1   |   1    |\n",
            "|          dense_114          |         Dense          |        3        |   1    |  1   |   1    |\n",
            "|          dropout_56         |        Dropout         |        3        |   1    |  1   |   1    |\n",
            "|          dense_115          |         Dense          |        3        |   1    |  1   |   1    |\n",
            "+-----------------------------+------------------------+-----------------+--------+------+--------+\n",
            "model_rf: 3 conv_count: 1, param count: 611530\n",
            "+-----------------------------+------------------------+-----------------+--------+------+--------+\n",
            "|       Model Layer Name      |       Class Name       | Receptive Field | Stride | Jump | Kernel |\n",
            "+-----------------------------+------------------------+-----------------+--------+------+--------+\n",
            "|          conv2d_17          |         Conv2D         |        3        |   1    |  1   |   3    |\n",
            "|          conv2d_18          |         Conv2D         |        5        |   1    |  1   |   3    |\n",
            "| global_average_pooling2d_32 | GlobalAveragePooling2D |        5        |   1    |  1   |   1    |\n",
            "|          dense_116          |         Dense          |        5        |   1    |  1   |   1    |\n",
            "|    batch_normalization_25   |   BatchNormalization   |        5        |   1    |  1   |   1    |\n",
            "|          dropout_57         |        Dropout         |        5        |   1    |  1   |   1    |\n",
            "|          dense_117          |         Dense          |        5        |   1    |  1   |   1    |\n",
            "|          dense_118          |         Dense          |        5        |   1    |  1   |   1    |\n",
            "|          dense_119          |         Dense          |        5        |   1    |  1   |   1    |\n",
            "|          dropout_58         |        Dropout         |        5        |   1    |  1   |   1    |\n",
            "|          dense_120          |         Dense          |        5        |   1    |  1   |   1    |\n",
            "+-----------------------------+------------------------+-----------------+--------+------+--------+\n",
            "model_rf: 5 conv_count: 2, param count: 607962\n",
            "+-----------------------------+------------------------+-----------------+--------+------+--------+\n",
            "|       Model Layer Name      |       Class Name       | Receptive Field | Stride | Jump | Kernel |\n",
            "+-----------------------------+------------------------+-----------------+--------+------+--------+\n",
            "|          conv2d_19          |         Conv2D         |        3        |   1    |  1   |   3    |\n",
            "|          conv2d_20          |         Conv2D         |        5        |   1    |  1   |   3    |\n",
            "|          conv2d_21          |         Conv2D         |        7        |   2    |  2   |   3    |\n",
            "|    batch_normalization_26   |   BatchNormalization   |        7        |   1    |  2   |   1    |\n",
            "|          dropout_59         |        Dropout         |        7        |   1    |  2   |   1    |\n",
            "| global_average_pooling2d_33 | GlobalAveragePooling2D |        7        |   1    |  2   |   1    |\n",
            "|          dense_121          |         Dense          |        7        |   1    |  2   |   1    |\n",
            "|    batch_normalization_27   |   BatchNormalization   |        7        |   1    |  2   |   1    |\n",
            "|          dropout_60         |        Dropout         |        7        |   1    |  2   |   1    |\n",
            "|          dense_122          |         Dense          |        7        |   1    |  2   |   1    |\n",
            "|          dense_123          |         Dense          |        7        |   1    |  2   |   1    |\n",
            "|          dense_124          |         Dense          |        7        |   1    |  2   |   1    |\n",
            "|          dropout_61         |        Dropout         |        7        |   1    |  2   |   1    |\n",
            "|          dense_125          |         Dense          |        7        |   1    |  2   |   1    |\n",
            "+-----------------------------+------------------------+-----------------+--------+------+--------+\n",
            "model_rf: 7 conv_count: 3, param count: 605058\n",
            "+-----------------------------+------------------------+-----------------+--------+------+--------+\n",
            "|       Model Layer Name      |       Class Name       | Receptive Field | Stride | Jump | Kernel |\n",
            "+-----------------------------+------------------------+-----------------+--------+------+--------+\n",
            "|          conv2d_22          |         Conv2D         |        3        |   1    |  1   |   3    |\n",
            "|          conv2d_23          |         Conv2D         |        5        |   1    |  1   |   3    |\n",
            "|          conv2d_24          |         Conv2D         |        7        |   2    |  2   |   3    |\n",
            "|    batch_normalization_28   |   BatchNormalization   |        7        |   1    |  2   |   1    |\n",
            "|          dropout_62         |        Dropout         |        7        |   1    |  2   |   1    |\n",
            "|          conv2d_25          |         Conv2D         |        11       |   1    |  2   |   3    |\n",
            "| global_average_pooling2d_34 | GlobalAveragePooling2D |        11       |   1    |  2   |   1    |\n",
            "|          dense_126          |         Dense          |        11       |   1    |  2   |   1    |\n",
            "|    batch_normalization_29   |   BatchNormalization   |        11       |   1    |  2   |   1    |\n",
            "|          dropout_63         |        Dropout         |        11       |   1    |  2   |   1    |\n",
            "|          dense_127          |         Dense          |        11       |   1    |  2   |   1    |\n",
            "|          dense_128          |         Dense          |        11       |   1    |  2   |   1    |\n",
            "|          dense_129          |         Dense          |        11       |   1    |  2   |   1    |\n",
            "|          dropout_64         |        Dropout         |        11       |   1    |  2   |   1    |\n",
            "|          dense_130          |         Dense          |        11       |   1    |  2   |   1    |\n",
            "+-----------------------------+------------------------+-----------------+--------+------+--------+\n",
            "model_rf: 11 conv_count: 4, param count: 610322\n"
          ]
        }
      ]
    },
    {
      "cell_type": "code",
      "source": [
        "model.compile(\n",
        "    optimizer=tf.keras.optimizers.Adam(0.001),\n",
        "    loss=tf.keras.losses.SparseCategoricalCrossentropy(),\n",
        "    metrics=[tf.keras.metrics.SparseCategoricalAccuracy()],\n",
        ")\n",
        "\n",
        "model.fit(\n",
        "    ds_train,\n",
        "    epochs=5,\n",
        "    validation_data=ds_test,\n",
        ")"
      ],
      "metadata": {
        "colab": {
          "base_uri": "https://localhost:8080/"
        },
        "id": "fH0EB5aojY99",
        "outputId": "c166c34d-8d7a-4e34-d7bc-188cdb8bcec7"
      },
      "execution_count": 46,
      "outputs": [
        {
          "output_type": "stream",
          "name": "stdout",
          "text": [
            "Epoch 1/5\n",
            "1875/1875 [==============================] - 147s 78ms/step - loss: 0.3641 - sparse_categorical_accuracy: 0.8862 - val_loss: 0.1875 - val_sparse_categorical_accuracy: 0.9430\n",
            "Epoch 2/5\n",
            "1875/1875 [==============================] - 146s 78ms/step - loss: 0.2091 - sparse_categorical_accuracy: 0.9377 - val_loss: 0.1674 - val_sparse_categorical_accuracy: 0.9455\n",
            "Epoch 3/5\n",
            "1875/1875 [==============================] - 144s 77ms/step - loss: 0.1674 - sparse_categorical_accuracy: 0.9517 - val_loss: 0.2287 - val_sparse_categorical_accuracy: 0.9286\n",
            "Epoch 4/5\n",
            "1875/1875 [==============================] - 145s 77ms/step - loss: 0.1473 - sparse_categorical_accuracy: 0.9561 - val_loss: 0.4392 - val_sparse_categorical_accuracy: 0.8808\n",
            "Epoch 5/5\n",
            "1875/1875 [==============================] - 146s 78ms/step - loss: 0.1337 - sparse_categorical_accuracy: 0.9616 - val_loss: 0.3255 - val_sparse_categorical_accuracy: 0.9062\n"
          ]
        },
        {
          "output_type": "execute_result",
          "data": {
            "text/plain": [
              "<keras.callbacks.History at 0x7ff3ebf9a820>"
            ]
          },
          "metadata": {},
          "execution_count": 46
        }
      ]
    },
    {
      "cell_type": "markdown",
      "source": [],
      "metadata": {
        "id": "h9aUYDqA1GiB"
      }
    }
  ]
}