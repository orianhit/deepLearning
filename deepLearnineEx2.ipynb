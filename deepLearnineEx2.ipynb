{
  "nbformat": 4,
  "nbformat_minor": 0,
  "metadata": {
    "colab": {
      "provenance": []
    },
    "kernelspec": {
      "name": "python3",
      "display_name": "Python 3"
    },
    "language_info": {
      "name": "python"
    }
  },
  "cells": [
    {
      "cell_type": "code",
      "execution_count": null,
      "metadata": {
        "id": "bNglONjji1UY"
      },
      "outputs": [],
      "source": [
        "import tensorflow as tf\n",
        "import datetime, os\n",
        "import tensorflow_datasets as tfds\n",
        "import numpy as np\n",
        "import matplotlib.pyplot as plt\n",
        "import keras\n",
        "from keras import utils as np_utils\n",
        "from keras.models import Sequential\n",
        "from keras.layers import Dense, Dropout, AvgPool2D, Conv2D, Input\n",
        "\n",
        "%matplotlib inline"
      ]
    },
    {
      "cell_type": "code",
      "source": [
        "(ds_train, ds_test), ds_info = tfds.load(\n",
        "    'mnist',\n",
        "    split=['train', 'test'],\n",
        "    shuffle_files=True,\n",
        "    as_supervised=True,\n",
        "    with_info=True,\n",
        ")\n",
        "\n",
        "the_shape = (28, 28, 1)\n",
        "\n",
        "def normalize_img(image, label):\n",
        "  \"\"\"Normalizes images: `uint8` -> `float32`.\"\"\"\n",
        "  return tf.cast(image, tf.float32) / 255., label\n",
        "\n",
        "ds_train = ds_train.map(normalize_img, num_parallel_calls=tf.data.AUTOTUNE)\n",
        "ds_train = ds_train.cache()\n",
        "ds_train = ds_train.shuffle(ds_info.splits['train'].num_examples)\n",
        "ds_train = ds_train.batch(32)\n",
        "ds_train = ds_train.prefetch(tf.data.AUTOTUNE)\n",
        "\n",
        "ds_test = ds_test.map(normalize_img, num_parallel_calls=tf.data.AUTOTUNE)\n",
        "ds_test = ds_test.batch(32)\n",
        "ds_test = ds_test.cache()\n",
        "ds_test = ds_test.prefetch(tf.data.AUTOTUNE)"
      ],
      "metadata": {
        "id": "is-Eooohi2Jd"
      },
      "execution_count": 52,
      "outputs": []
    },
    {
      "cell_type": "code",
      "source": [
        "# model = tf.keras.applications.VGG16(\n",
        "#     include_top=True,\n",
        "#     weights=\"imagenet\",\n",
        "#     input_tensor=None,\n",
        "#     input_shape=None,\n",
        "#     pooling=None,\n",
        "#     classes=1000,\n",
        "#     classifier_activation=\"softmax\",\n",
        "# )\n",
        "# model.summary()"
      ],
      "metadata": {
        "id": "CYQD_P0IxFcN"
      },
      "execution_count": null,
      "outputs": []
    },
    {
      "cell_type": "markdown",
      "source": [
        "\n",
        "**The receptive field calculate function :**"
      ],
      "metadata": {
        "id": "XfrIIIGtu-Ad"
      }
    },
    {
      "cell_type": "code",
      "source": [
        "from prettytable import PrettyTable\n",
        "\n",
        "INPUT_SHAPE = (28, 28, 1)\n",
        "MAX_RECEPTIVE = 28 * 28 * 1\n",
        "KERNEL_SIZE = (3, 3)\n",
        "\n",
        "POOLING_LAYERS = ['MaxPooling2D', 'AveragePooling2D']\n",
        "CONV_LAYERS = ['Conv2D']\n",
        "GLOBAL_POOLING_LAYERS = ['GlobalAveragePooling2D']\n",
        "\n",
        "def get_receptive_field(model, should_print=False):\n",
        "  receptive_field, jump = 1, 1\n",
        "  t = PrettyTable(['Model Layer Name', 'Class Name', 'Receptive Field', 'Stride', 'Jump', 'Kernel'])\n",
        "  for current_layer in model.layers:\n",
        "    layer_class = current_layer.__class__.__name__\n",
        "    layer_name = current_layer.get_config()['name']\n",
        "    stride = 1\n",
        "    kernel_size = 1\n",
        "    if layer_class in CONV_LAYERS + POOLING_LAYERS:\n",
        "      stride = current_layer.get_config()['strides'][0]\n",
        "      if layer_class in CONV_LAYERS:\n",
        "        kernel_size = current_layer.get_config()['kernel_size'][0]\n",
        "        receptive_field = min(MAX_RECEPTIVE, receptive_field + (kernel_size - 1) * jump)\n",
        "        jump = jump * stride\n",
        "      elif layer_class in POOLING_LAYERS:\n",
        "        kernel_size = current_layer.get_config()['pool_size'][0]\n",
        "        receptive_field = min(MAX_RECEPTIVE, receptive_field + (kernel_size - 1) * jump)\n",
        "        jump = jump * stride\n",
        "      \n",
        "      t.add_row([layer_name, layer_class, receptive_field, stride, jump, kernel_size])\n",
        "    else:\n",
        "      t.add_row([layer_name, layer_class, receptive_field, stride, jump, kernel_size])\n",
        "  if should_print:\n",
        "    print(t)\n",
        "  return receptive_field"
      ],
      "metadata": {
        "id": "-9H9aW_LxmKk"
      },
      "execution_count": 62,
      "outputs": []
    },
    {
      "cell_type": "code",
      "source": [
        "def get_layers_by_conv_count(conv_count: int):\n",
        "  if conv_count == 0:\n",
        "    return [\n",
        "    tf.keras.layers.GlobalAveragePooling2D(input_shape=INPUT_SHAPE),\n",
        "    tf.keras.layers.Dense(units=512, activation='relu'),\n",
        "    tf.keras.layers.BatchNormalization(),\n",
        "    tf.keras.layers.Dropout(0.2),\n",
        "    tf.keras.layers.Dense(units=256, activation='relu'),\n",
        "    tf.keras.layers.Dense(units=64, activation='relu'),\n",
        "    tf.keras.layers.Dropout(0.2),\n",
        "    ]\n",
        "\n",
        "  layers = [\n",
        "  tf.keras.layers.Conv2D(filters=32, kernel_size=KERNEL_SIZE,  activation='relu', input_shape=INPUT_SHAPE)\n",
        "  ]\n",
        "  for i in range(conv_count - 1):\n",
        "    if i % 3 == 1:\n",
        "      new_layers = [\n",
        "        tf.keras.layers.Conv2D(filters=8, strides = (2,2), kernel_size=KERNEL_SIZE, activation='relu', padding='same'),\n",
        "        tf.keras.layers.BatchNormalization(),\n",
        "        tf.keras.layers.Dropout(0.2),\n",
        "      ]\n",
        "\n",
        "    else:\n",
        "      new_layers = [tf.keras.layers.Conv2D(filters=16, kernel_size=KERNEL_SIZE, activation='relu', padding='same')]\n",
        "    layers = layers + new_layers\n",
        "  layers = layers + [\n",
        "    tf.keras.layers.GlobalAveragePooling2D(),\n",
        "    tf.keras.layers.Dense(units=256, activation='relu'),\n",
        "    tf.keras.layers.Dense(units=64, activation='relu'),\n",
        "    tf.keras.layers.Dropout(0.2),\n",
        "  ]\n",
        "  return layers\n",
        "\n",
        "def generate_model_one_step_more_then_k_rf(k: int):\n",
        "  model_rf = -1\n",
        "  conv_count = 0\n",
        "\n",
        "  while model_rf < k:    \n",
        "    model = tf.keras.models.Sequential(get_layers_by_conv_count(conv_count))\n",
        "    model_rf = get_receptive_field(model, should_print=True)\n",
        "    print(f\"model_rf: {model_rf} conv_count: {conv_count}, param count: {model.count_params()}\")\n",
        "    conv_count += 1\n",
        "  return model\n"
      ],
      "metadata": {
        "id": "aaAQ9ulFG4CV"
      },
      "execution_count": 60,
      "outputs": []
    },
    {
      "cell_type": "code",
      "source": [
        "model = generate_model_one_step_more_then_k_rf(20)"
      ],
      "metadata": {
        "colab": {
          "base_uri": "https://localhost:8080/"
        },
        "id": "jc6kMZ3CU4m-",
        "outputId": "f9c592e3-49e0-4b42-c1f3-4bfa510e7b27"
      },
      "execution_count": 63,
      "outputs": [
        {
          "output_type": "stream",
          "name": "stdout",
          "text": [
            "+-----------------------------+------------------------+-----------------+--------+------+--------+\n",
            "|       Model Layer Name      |       Class Name       | Receptive Field | Stride | Jump | Kernel |\n",
            "+-----------------------------+------------------------+-----------------+--------+------+--------+\n",
            "| global_average_pooling2d_25 | GlobalAveragePooling2D |        1        |   1    |  1   |   1    |\n",
            "|           dense_81          |         Dense          |        1        |   1    |  1   |   1    |\n",
            "|    batch_normalization_15   |   BatchNormalization   |        1        |   1    |  1   |   1    |\n",
            "|          dropout_35         |        Dropout         |        1        |   1    |  1   |   1    |\n",
            "|           dense_82          |         Dense          |        1        |   1    |  1   |   1    |\n",
            "|           dense_83          |         Dense          |        1        |   1    |  1   |   1    |\n",
            "|          dropout_36         |        Dropout         |        1        |   1    |  1   |   1    |\n",
            "+-----------------------------+------------------------+-----------------+--------+------+--------+\n",
            "model_rf: 1 conv_count: 0, param count: 150848\n",
            "+-----------------------------+------------------------+-----------------+--------+------+--------+\n",
            "|       Model Layer Name      |       Class Name       | Receptive Field | Stride | Jump | Kernel |\n",
            "+-----------------------------+------------------------+-----------------+--------+------+--------+\n",
            "|          conv2d_74          |         Conv2D         |        3        |   1    |  1   |   3    |\n",
            "| global_average_pooling2d_26 | GlobalAveragePooling2D |        3        |   1    |  1   |   1    |\n",
            "|           dense_84          |         Dense          |        3        |   1    |  1   |   1    |\n",
            "|           dense_85          |         Dense          |        3        |   1    |  1   |   1    |\n",
            "|          dropout_37         |        Dropout         |        3        |   1    |  1   |   1    |\n",
            "+-----------------------------+------------------------+-----------------+--------+------+--------+\n",
            "model_rf: 3 conv_count: 1, param count: 25216\n",
            "+-----------------------------+------------------------+-----------------+--------+------+--------+\n",
            "|       Model Layer Name      |       Class Name       | Receptive Field | Stride | Jump | Kernel |\n",
            "+-----------------------------+------------------------+-----------------+--------+------+--------+\n",
            "|          conv2d_75          |         Conv2D         |        3        |   1    |  1   |   3    |\n",
            "|          conv2d_76          |         Conv2D         |        5        |   1    |  1   |   3    |\n",
            "| global_average_pooling2d_27 | GlobalAveragePooling2D |        5        |   1    |  1   |   1    |\n",
            "|           dense_86          |         Dense          |        5        |   1    |  1   |   1    |\n",
            "|           dense_87          |         Dense          |        5        |   1    |  1   |   1    |\n",
            "|          dropout_38         |        Dropout         |        5        |   1    |  1   |   1    |\n",
            "+-----------------------------+------------------------+-----------------+--------+------+--------+\n",
            "model_rf: 5 conv_count: 2, param count: 25744\n",
            "+-----------------------------+------------------------+-----------------+--------+------+--------+\n",
            "|       Model Layer Name      |       Class Name       | Receptive Field | Stride | Jump | Kernel |\n",
            "+-----------------------------+------------------------+-----------------+--------+------+--------+\n",
            "|          conv2d_77          |         Conv2D         |        3        |   1    |  1   |   3    |\n",
            "|          conv2d_78          |         Conv2D         |        5        |   1    |  1   |   3    |\n",
            "|          conv2d_79          |         Conv2D         |        7        |   2    |  2   |   3    |\n",
            "|    batch_normalization_16   |   BatchNormalization   |        7        |   1    |  2   |   1    |\n",
            "|          dropout_39         |        Dropout         |        7        |   1    |  2   |   1    |\n",
            "| global_average_pooling2d_28 | GlobalAveragePooling2D |        7        |   1    |  2   |   1    |\n",
            "|           dense_88          |         Dense          |        7        |   1    |  2   |   1    |\n",
            "|           dense_89          |         Dense          |        7        |   1    |  2   |   1    |\n",
            "|          dropout_40         |        Dropout         |        7        |   1    |  2   |   1    |\n",
            "+-----------------------------+------------------------+-----------------+--------+------+--------+\n",
            "model_rf: 7 conv_count: 3, param count: 24888\n",
            "+-----------------------------+------------------------+-----------------+--------+------+--------+\n",
            "|       Model Layer Name      |       Class Name       | Receptive Field | Stride | Jump | Kernel |\n",
            "+-----------------------------+------------------------+-----------------+--------+------+--------+\n",
            "|          conv2d_80          |         Conv2D         |        3        |   1    |  1   |   3    |\n",
            "|          conv2d_81          |         Conv2D         |        5        |   1    |  1   |   3    |\n",
            "|          conv2d_82          |         Conv2D         |        7        |   2    |  2   |   3    |\n",
            "|    batch_normalization_17   |   BatchNormalization   |        7        |   1    |  2   |   1    |\n",
            "|          dropout_41         |        Dropout         |        7        |   1    |  2   |   1    |\n",
            "|          conv2d_83          |         Conv2D         |        11       |   1    |  2   |   3    |\n",
            "| global_average_pooling2d_29 | GlobalAveragePooling2D |        11       |   1    |  2   |   1    |\n",
            "|           dense_90          |         Dense          |        11       |   1    |  2   |   1    |\n",
            "|           dense_91          |         Dense          |        11       |   1    |  2   |   1    |\n",
            "|          dropout_42         |        Dropout         |        11       |   1    |  2   |   1    |\n",
            "+-----------------------------+------------------------+-----------------+--------+------+--------+\n",
            "model_rf: 11 conv_count: 4, param count: 28104\n",
            "+-----------------------------+------------------------+-----------------+--------+------+--------+\n",
            "|       Model Layer Name      |       Class Name       | Receptive Field | Stride | Jump | Kernel |\n",
            "+-----------------------------+------------------------+-----------------+--------+------+--------+\n",
            "|          conv2d_84          |         Conv2D         |        3        |   1    |  1   |   3    |\n",
            "|          conv2d_85          |         Conv2D         |        5        |   1    |  1   |   3    |\n",
            "|          conv2d_86          |         Conv2D         |        7        |   2    |  2   |   3    |\n",
            "|    batch_normalization_18   |   BatchNormalization   |        7        |   1    |  2   |   1    |\n",
            "|          dropout_43         |        Dropout         |        7        |   1    |  2   |   1    |\n",
            "|          conv2d_87          |         Conv2D         |        11       |   1    |  2   |   3    |\n",
            "|          conv2d_88          |         Conv2D         |        15       |   1    |  2   |   3    |\n",
            "| global_average_pooling2d_30 | GlobalAveragePooling2D |        15       |   1    |  2   |   1    |\n",
            "|           dense_92          |         Dense          |        15       |   1    |  2   |   1    |\n",
            "|           dense_93          |         Dense          |        15       |   1    |  2   |   1    |\n",
            "|          dropout_44         |        Dropout         |        15       |   1    |  2   |   1    |\n",
            "+-----------------------------+------------------------+-----------------+--------+------+--------+\n",
            "model_rf: 15 conv_count: 5, param count: 30424\n",
            "+-----------------------------+------------------------+-----------------+--------+------+--------+\n",
            "|       Model Layer Name      |       Class Name       | Receptive Field | Stride | Jump | Kernel |\n",
            "+-----------------------------+------------------------+-----------------+--------+------+--------+\n",
            "|          conv2d_89          |         Conv2D         |        3        |   1    |  1   |   3    |\n",
            "|          conv2d_90          |         Conv2D         |        5        |   1    |  1   |   3    |\n",
            "|          conv2d_91          |         Conv2D         |        7        |   2    |  2   |   3    |\n",
            "|    batch_normalization_19   |   BatchNormalization   |        7        |   1    |  2   |   1    |\n",
            "|          dropout_45         |        Dropout         |        7        |   1    |  2   |   1    |\n",
            "|          conv2d_92          |         Conv2D         |        11       |   1    |  2   |   3    |\n",
            "|          conv2d_93          |         Conv2D         |        15       |   1    |  2   |   3    |\n",
            "|          conv2d_94          |         Conv2D         |        19       |   2    |  4   |   3    |\n",
            "|    batch_normalization_20   |   BatchNormalization   |        19       |   1    |  4   |   1    |\n",
            "|          dropout_46         |        Dropout         |        19       |   1    |  4   |   1    |\n",
            "| global_average_pooling2d_31 | GlobalAveragePooling2D |        19       |   1    |  4   |   1    |\n",
            "|           dense_94          |         Dense          |        19       |   1    |  4   |   1    |\n",
            "|           dense_95          |         Dense          |        19       |   1    |  4   |   1    |\n",
            "|          dropout_47         |        Dropout         |        19       |   1    |  4   |   1    |\n",
            "+-----------------------------+------------------------+-----------------+--------+------+--------+\n",
            "model_rf: 19 conv_count: 6, param count: 29568\n",
            "+-----------------------------+------------------------+-----------------+--------+------+--------+\n",
            "|       Model Layer Name      |       Class Name       | Receptive Field | Stride | Jump | Kernel |\n",
            "+-----------------------------+------------------------+-----------------+--------+------+--------+\n",
            "|          conv2d_95          |         Conv2D         |        3        |   1    |  1   |   3    |\n",
            "|          conv2d_96          |         Conv2D         |        5        |   1    |  1   |   3    |\n",
            "|          conv2d_97          |         Conv2D         |        7        |   2    |  2   |   3    |\n",
            "|    batch_normalization_21   |   BatchNormalization   |        7        |   1    |  2   |   1    |\n",
            "|          dropout_48         |        Dropout         |        7        |   1    |  2   |   1    |\n",
            "|          conv2d_98          |         Conv2D         |        11       |   1    |  2   |   3    |\n",
            "|          conv2d_99          |         Conv2D         |        15       |   1    |  2   |   3    |\n",
            "|          conv2d_100         |         Conv2D         |        19       |   2    |  4   |   3    |\n",
            "|    batch_normalization_22   |   BatchNormalization   |        19       |   1    |  4   |   1    |\n",
            "|          dropout_49         |        Dropout         |        19       |   1    |  4   |   1    |\n",
            "|          conv2d_101         |         Conv2D         |        27       |   1    |  4   |   3    |\n",
            "| global_average_pooling2d_32 | GlobalAveragePooling2D |        27       |   1    |  4   |   1    |\n",
            "|           dense_96          |         Dense          |        27       |   1    |  4   |   1    |\n",
            "|           dense_97          |         Dense          |        27       |   1    |  4   |   1    |\n",
            "|          dropout_50         |        Dropout         |        27       |   1    |  4   |   1    |\n",
            "+-----------------------------+------------------------+-----------------+--------+------+--------+\n",
            "model_rf: 27 conv_count: 7, param count: 32784\n"
          ]
        }
      ]
    },
    {
      "cell_type": "code",
      "source": [
        "model.compile(\n",
        "    optimizer=tf.keras.optimizers.Adam(0.001),\n",
        "    loss=tf.keras.losses.SparseCategoricalCrossentropy(from_logits=True),\n",
        "    metrics=[tf.keras.metrics.SparseCategoricalAccuracy()],\n",
        ")\n",
        "\n",
        "model.fit(\n",
        "    ds_train,\n",
        "    epochs=5,\n",
        "    validation_data=ds_test,\n",
        ")"
      ],
      "metadata": {
        "colab": {
          "base_uri": "https://localhost:8080/"
        },
        "id": "fH0EB5aojY99",
        "outputId": "ae3192a0-33ed-4893-af81-82faaef1034a"
      },
      "execution_count": 64,
      "outputs": [
        {
          "output_type": "stream",
          "name": "stdout",
          "text": [
            "Epoch 1/5\n",
            "1875/1875 [==============================] - 155s 82ms/step - loss: 1.7767 - sparse_categorical_accuracy: 0.5960 - val_loss: 0.6210 - val_sparse_categorical_accuracy: 0.8708\n",
            "Epoch 2/5\n",
            "1875/1875 [==============================] - 154s 82ms/step - loss: 1.3431 - sparse_categorical_accuracy: 0.6995 - val_loss: 0.5407 - val_sparse_categorical_accuracy: 0.8806\n",
            "Epoch 3/5\n",
            "1875/1875 [==============================] - 160s 86ms/step - loss: 1.2705 - sparse_categorical_accuracy: 0.7155 - val_loss: 0.5191 - val_sparse_categorical_accuracy: 0.8844\n",
            "Epoch 4/5\n",
            "1875/1875 [==============================] - 156s 83ms/step - loss: 1.2573 - sparse_categorical_accuracy: 0.7186 - val_loss: 0.5049 - val_sparse_categorical_accuracy: 0.8866\n",
            "Epoch 5/5\n",
            "1875/1875 [==============================] - 167s 89ms/step - loss: 1.2460 - sparse_categorical_accuracy: 0.7208 - val_loss: 0.5591 - val_sparse_categorical_accuracy: 0.8786\n"
          ]
        },
        {
          "output_type": "execute_result",
          "data": {
            "text/plain": [
              "<keras.callbacks.History at 0x7fbf38419640>"
            ]
          },
          "metadata": {},
          "execution_count": 64
        }
      ]
    }
  ]
}